{
 "cells": [
  {
   "cell_type": "code",
   "execution_count": null,
   "metadata": {
    "colab": {
     "base_uri": "https://localhost:8080/"
    },
    "id": "3_Hm_rCev2ri",
    "outputId": "3f4cec64-1f10-41db-8474-67a73a320a18"
   },
   "outputs": [
    {
     "name": "stdout",
     "output_type": "stream",
     "text": [
      "Cloning into 'pypy'...\n",
      "remote: Enumerating objects: 4068, done.\u001B[K\n",
      "remote: Counting objects: 100% (4068/4068), done.\u001B[K\n",
      "remote: Compressing objects: 100% (812/812), done.\u001B[K\n",
      "remote: Total 4068 (delta 3272), reused 4038 (delta 3250), pack-reused 0\u001B[K\n",
      "Receiving objects: 100% (4068/4068), 22.23 MiB | 27.96 MiB/s, done.\n",
      "Resolving deltas: 100% (3272/3272), done.\n",
      "Requirement already satisfied: numpy in /usr/local/lib/python3.7/dist-packages (1.19.5)\n",
      "Requirement already satisfied: pandas in /usr/local/lib/python3.7/dist-packages (1.1.5)\n",
      "Requirement already satisfied: python-dateutil>=2.7.3 in /usr/local/lib/python3.7/dist-packages (from pandas) (2.8.1)\n",
      "Requirement already satisfied: numpy>=1.15.4 in /usr/local/lib/python3.7/dist-packages (from pandas) (1.19.5)\n",
      "Requirement already satisfied: pytz>=2017.2 in /usr/local/lib/python3.7/dist-packages (from pandas) (2018.9)\n",
      "Requirement already satisfied: six>=1.5 in /usr/local/lib/python3.7/dist-packages (from python-dateutil>=2.7.3->pandas) (1.15.0)\n",
      "Requirement already satisfied: pillow in /usr/local/lib/python3.7/dist-packages (7.1.2)\n",
      "Requirement already satisfied: scikit-learn in /usr/local/lib/python3.7/dist-packages (0.22.2.post1)\n",
      "Requirement already satisfied: scipy>=0.17.0 in /usr/local/lib/python3.7/dist-packages (from scikit-learn) (1.4.1)\n",
      "Requirement already satisfied: joblib>=0.11 in /usr/local/lib/python3.7/dist-packages (from scikit-learn) (1.0.1)\n",
      "Requirement already satisfied: numpy>=1.11.0 in /usr/local/lib/python3.7/dist-packages (from scikit-learn) (1.19.5)\n",
      "Requirement already satisfied: opencv-python in /usr/local/lib/python3.7/dist-packages (4.1.2.30)\n",
      "Requirement already satisfied: numpy>=1.14.5 in /usr/local/lib/python3.7/dist-packages (from opencv-python) (1.19.5)\n"
     ]
    }
   ],
   "source": [
    "# 拉取代码库和下载python依赖\n",
    "!git clone https://github.com/i2w3/pypy\n",
    "!pip install numpy\n",
    "!pip install pandas\n",
    "!pip install pillow\n",
    "!pip install scikit-learn\n",
    "!pip install opencv-python"
   ]
  },
  {
   "cell_type": "markdown",
   "metadata": {
    "id": "7bXAjcjB25pQ"
   },
   "source": [
    "colab不断连代码，按F12进入网站开发者选项，在console输入以下代码\n",
    "```console\n",
    "function ConnectButton(){\n",
    "    console.log(\"Connect pushed\"); \n",
    "    document.querySelector(\"#connect\").click() \n",
    "}\n",
    "setInterval(ConnectButton,60000);\n",
    "```"
   ]
  },
  {
   "cell_type": "code",
   "execution_count": 4,
   "metadata": {
    "colab": {
     "base_uri": "https://localhost:8080/"
    },
    "id": "gl3UxBdQq_sK",
    "outputId": "213c0101-a8d1-4c4f-c4e2-6a1f0d58adc5"
   },
   "outputs": [
    {
     "name": "stdout",
     "output_type": "stream",
     "text": [
      "/content/pypy\n",
      "Bayes.py\t DataProcess.py  main.py   pdData.csv  人脸图像识别项目说明.doc\n",
      "build_pdData.py  face\t\t PCAcv.py  README.md\n",
      "2412 已经从 512 * 512 压缩到 128 * 128\n",
      "2416 已经从 512 * 512 压缩到 128 * 128\n",
      "/usr/local/lib/python3.7/dist-packages/joblib/externals/loky/process_executor.py:691: UserWarning: A worker stopped while some jobs were given to the executor. This can be caused by a too short worker timeout or by a memory leak.\n",
      "  \"timeout or by a memory leak.\", UserWarning\n",
      "GaussianNB Best parameter (CV score=0.549):\n",
      "{'pca__n_components': 73, 'pca__svd_solver': 'auto', 'pca__whiten': True}\n",
      "/usr/local/lib/python3.7/dist-packages/joblib/externals/loky/process_executor.py:691: UserWarning: A worker stopped while some jobs were given to the executor. This can be caused by a too short worker timeout or by a memory leak.\n",
      "  \"timeout or by a memory leak.\", UserWarning\n",
      "BernoulliNB Best parameter (CV score=0.670):\n",
      "{'pca__n_components': 116, 'pca__svd_solver': 'auto', 'pca__whiten': True}\n"
     ]
    }
   ],
   "source": [
    "%cd pypy\n",
    "!ls\n",
    "!python PCAcv.py"
   ]
  },
  {
   "cell_type": "markdown",
   "metadata": {},
   "source": [
    "从上面结果可以看出：Gaussian Naive Bayes分类器对应的PCA保留特征数量为73个左右较佳；Bernoulli Naive Bayes分类器对应的PCA保留特征数量为116个做优较佳\n",
    "\n",
    "（以上结果均是在Google云代码平台上运行的，大约需要为5小时）"
   ]
  }
 ],
 "metadata": {
  "colab": {
   "name": "pypy.ipynb",
   "provenance": []
  },
  "kernelspec": {
   "display_name": "Python 3",
   "language": "python",
   "name": "python3"
  },
  "language_info": {
   "codemirror_mode": {
    "name": "ipython",
    "version": 3
   },
   "file_extension": ".py",
   "mimetype": "text/x-python",
   "name": "python",
   "nbconvert_exporter": "python",
   "pygments_lexer": "ipython3",
   "version": "3.8.10"
  }
 },
 "nbformat": 4,
 "nbformat_minor": 4
}