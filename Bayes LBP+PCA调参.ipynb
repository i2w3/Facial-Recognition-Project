{
  "nbformat": 4,
  "nbformat_minor": 0,
  "metadata": {
    "colab": {
      "name": "“pypy.ipynb”的副本",
      "provenance": []
    },
    "kernelspec": {
      "display_name": "Python 3",
      "name": "python3"
    },
    "language_info": {
      "name": "python"
    }
  },
  "cells": [
    {
      "cell_type": "code",
      "metadata": {
        "colab": {
          "base_uri": "https://localhost:8080/"
        },
        "id": "3_Hm_rCev2ri",
        "outputId": "e50a17fd-7cbb-4940-b754-42586956852f"
      },
      "source": [
        "# 拉取代码库和下载python依赖\n",
        "!git clone https://github.com/i2w3/pypy\n",
        "!pip install numpy\n",
        "!pip install pandas\n",
        "!pip install pillow\n",
        "!pip install scikit-learn\n",
        "!pip install opencv-python"
      ],
      "execution_count": null,
      "outputs": [
        {
          "output_type": "stream",
          "text": [
            "Cloning into 'pypy'...\n",
            "remote: Enumerating objects: 4093, done.\u001b[K\n",
            "remote: Counting objects: 100% (4093/4093), done.\u001b[K\n",
            "remote: Compressing objects: 100% (827/827), done.\u001b[K\n",
            "remote: Total 4093 (delta 3283), reused 4060 (delta 3258), pack-reused 0\u001b[K\n",
            "Receiving objects: 100% (4093/4093), 22.25 MiB | 35.33 MiB/s, done.\n",
            "Resolving deltas: 100% (3283/3283), done.\n",
            "Requirement already satisfied: numpy in /usr/local/lib/python3.7/dist-packages (1.19.5)\n",
            "Requirement already satisfied: pandas in /usr/local/lib/python3.7/dist-packages (1.1.5)\n",
            "Requirement already satisfied: numpy>=1.15.4 in /usr/local/lib/python3.7/dist-packages (from pandas) (1.19.5)\n",
            "Requirement already satisfied: python-dateutil>=2.7.3 in /usr/local/lib/python3.7/dist-packages (from pandas) (2.8.1)\n",
            "Requirement already satisfied: pytz>=2017.2 in /usr/local/lib/python3.7/dist-packages (from pandas) (2018.9)\n",
            "Requirement already satisfied: six>=1.5 in /usr/local/lib/python3.7/dist-packages (from python-dateutil>=2.7.3->pandas) (1.15.0)\n",
            "Requirement already satisfied: pillow in /usr/local/lib/python3.7/dist-packages (7.1.2)\n",
            "Requirement already satisfied: scikit-learn in /usr/local/lib/python3.7/dist-packages (0.22.2.post1)\n",
            "Requirement already satisfied: numpy>=1.11.0 in /usr/local/lib/python3.7/dist-packages (from scikit-learn) (1.19.5)\n",
            "Requirement already satisfied: joblib>=0.11 in /usr/local/lib/python3.7/dist-packages (from scikit-learn) (1.0.1)\n",
            "Requirement already satisfied: scipy>=0.17.0 in /usr/local/lib/python3.7/dist-packages (from scikit-learn) (1.4.1)\n",
            "Requirement already satisfied: opencv-python in /usr/local/lib/python3.7/dist-packages (4.1.2.30)\n",
            "Requirement already satisfied: numpy>=1.14.5 in /usr/local/lib/python3.7/dist-packages (from opencv-python) (1.19.5)\n"
          ],
          "name": "stdout"
        }
      ]
    },
    {
      "cell_type": "markdown",
      "metadata": {
        "id": "7bXAjcjB25pQ"
      },
      "source": [
        "colab不断连代码，按F12进入网站开发者选项，在console输入以下代码\n",
        "```console\n",
        "function ConnectButton(){\n",
        "    console.log(\"Connect pushed\"); \n",
        "    document.querySelector(\"#connect\").click() \n",
        "}\n",
        "setInterval(ConnectButton,60000);\n",
        "```"
      ]
    },
    {
      "cell_type": "code",
      "metadata": {
        "colab": {
          "base_uri": "https://localhost:8080/"
        },
        "id": "gl3UxBdQq_sK",
        "outputId": "b0443cda-5ca7-46c3-907a-45b770036eda"
      },
      "source": [
        "%cd pypy\n",
        "!ls\n",
        "import numpy as np\n",
        "import pandas as pd\n",
        "from DataProcess import combineLBPSeqData\n",
        "from sklearn.decomposition import PCA\n",
        "from sklearn.naive_bayes import GaussianNB, BernoulliNB\n",
        "from sklearn.pipeline import Pipeline\n",
        "from sklearn.model_selection import GridSearchCV\n",
        "\n",
        "pca = PCA()\n",
        "pipe1 = Pipeline(steps=[('pca', pca), ('NB', GaussianNB())])\n",
        "pipe2 = Pipeline(steps=[('pca', pca), ('BB', BernoulliNB())])\n",
        "\n",
        "Data = pd.read_csv('pdData.csv')\n",
        "\n",
        "X_digits = combineLBPSeqData(Data)\n",
        "y_digits = np.array(Data['Face'].values)\n",
        "\n",
        "# Parameters of pipelines can be set using ‘__’ separated parameter names:\n",
        "param_grid = {\n",
        "    'pca__n_components': range(1, 120),\n",
        "    'pca__svd_solver': ['auto'],\n",
        "    'pca__whiten': [True]\n",
        "}\n",
        "'''\n",
        "# SVD和whiten的参数：\n",
        "'pca__svd_solver':['auto', 'full', 'arpack', 'randomized'],\n",
        "'pca__whiten':[True, False]\n",
        "'''\n",
        "kfold = 10\n",
        "scoring = 'accuracy'\n",
        "\n",
        "search1 = GridSearchCV(pipe1, param_grid, n_jobs=-1, cv=kfold, scoring=scoring)\n",
        "search1.fit(X_digits, y_digits)\n",
        "print(\"GaussianNB Best parameter (CV score=%0.3f):\" % search1.best_score_)\n",
        "print(search1.best_params_)\n",
        "\n",
        "search2 = GridSearchCV(pipe2, param_grid, n_jobs=-1, cv=kfold, scoring=scoring)\n",
        "search2.fit(X_digits, y_digits)\n",
        "print(\"BernoulliNB Best parameter (CV score=%0.3f):\" % search2.best_score_)\n",
        "print(search2.best_params_)"
      ],
      "execution_count": null,
      "outputs": [
        {
          "output_type": "stream",
          "text": [
            "/content/pypy\n",
            "Bayes.py\t DataProcess.py  main.py  PCAcv.py    README.md\n",
            "build_pdData.py  face\t\t other\t  pdData.csv\n",
            "2412 已经从 512 * 512 压缩到 128 * 128\n",
            "2416 已经从 512 * 512 压缩到 128 * 128\n"
          ],
          "name": "stdout"
        },
        {
          "output_type": "stream",
          "text": [
            "/usr/local/lib/python3.7/dist-packages/joblib/externals/loky/process_executor.py:691: UserWarning: A worker stopped while some jobs were given to the executor. This can be caused by a too short worker timeout or by a memory leak.\n",
            "  \"timeout or by a memory leak.\", UserWarning\n"
          ],
          "name": "stderr"
        },
        {
          "output_type": "stream",
          "text": [
            "GaussianNB Best parameter (CV score=0.725):\n",
            "{'pca__n_components': 27, 'pca__svd_solver': 'auto', 'pca__whiten': True}\n"
          ],
          "name": "stdout"
        },
        {
          "output_type": "stream",
          "text": [
            "/usr/local/lib/python3.7/dist-packages/joblib/externals/loky/process_executor.py:691: UserWarning: A worker stopped while some jobs were given to the executor. This can be caused by a too short worker timeout or by a memory leak.\n",
            "  \"timeout or by a memory leak.\", UserWarning\n"
          ],
          "name": "stderr"
        },
        {
          "output_type": "stream",
          "text": [
            "BernoulliNB Best parameter (CV score=0.698):\n",
            "{'pca__n_components': 74, 'pca__svd_solver': 'auto', 'pca__whiten': True}\n"
          ],
          "name": "stdout"
        }
      ]
    }
  ]
}